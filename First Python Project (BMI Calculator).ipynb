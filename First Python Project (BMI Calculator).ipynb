{
 "cells": [
  {
   "cell_type": "markdown",
   "id": "4b81b8dc-4b6a-4bea-be53-840c83d509f3",
   "metadata": {},
   "source": [
    "BMI CALCULATOR"
   ]
  },
  {
   "cell_type": "code",
   "execution_count": 10,
   "id": "9aab898a-1391-4426-9ca9-979fa4077cd4",
   "metadata": {},
   "outputs": [
    {
     "name": "stdin",
     "output_type": "stream",
     "text": [
      "Enter you name:  Varun\n",
      "Enter your weight in Kgs:  172\n",
      "Enter your height in inches:  70\n"
     ]
    },
    {
     "name": "stdout",
     "output_type": "stream",
     "text": [
      "25.624489795918368\n",
      "Varun, you are  overweight.\n"
     ]
    }
   ],
   "source": [
    "name = input(\"Enter you name: \")\n",
    "\n",
    "weight = int(input(\"Enter your weight in pounds: \"))\n",
    "\n",
    "height = int(input(\"Enter your height in inches: \")) \n",
    "\n",
    "BMI = (weight*730)/ (height * height)\n",
    "\n",
    "print(BMI)\n",
    "\n",
    "if BMI>0:\n",
    "    if(BMI<18.5):\n",
    "        print(name+\", you are underweight.\")\n",
    "    elif (BMI<=24.9):\n",
    "        print(name+\", you are normal weight.\")\n",
    "    elif (BMI<=29.9):\n",
    "        print(name+\", you are  overweight.\")\n",
    "    elif (BMI<=34.9):\n",
    "        print(name+\", you are obese.\")\n",
    "    elif (BMI<=39.9):\n",
    "        print(name+\", you are severely obese.\")\n",
    "    else:\n",
    "        print(name+\", you are morbidly obese.\") \n",
    "\n",
    "else:\n",
    "    print(\"Enter valid input\")\n",
    "        "
   ]
  },
  {
   "cell_type": "code",
   "execution_count": null,
   "id": "9673d9c3-70c7-4cc9-b83f-2bd68777934f",
   "metadata": {},
   "outputs": [],
   "source": []
  },
  {
   "cell_type": "code",
   "execution_count": null,
   "id": "481922ec-f5bc-4966-b8aa-7c6921dc3742",
   "metadata": {},
   "outputs": [],
   "source": []
  },
  {
   "cell_type": "code",
   "execution_count": null,
   "id": "881d0072-165a-49fd-bf44-e9deb85e08a9",
   "metadata": {},
   "outputs": [],
   "source": []
  },
  {
   "cell_type": "code",
   "execution_count": null,
   "id": "8315a3c7-f9c7-4842-8abb-23a7028b616e",
   "metadata": {},
   "outputs": [],
   "source": []
  },
  {
   "cell_type": "code",
   "execution_count": null,
   "id": "5d9dca87-a99a-44ee-98b5-644cbe8b0cda",
   "metadata": {},
   "outputs": [],
   "source": []
  },
  {
   "cell_type": "code",
   "execution_count": null,
   "id": "edced0fd-667a-4231-b14b-d28b5a5a8b92",
   "metadata": {},
   "outputs": [],
   "source": []
  },
  {
   "cell_type": "code",
   "execution_count": null,
   "id": "c7d3abc8-acc4-4660-a030-9446165dcb1c",
   "metadata": {},
   "outputs": [],
   "source": []
  },
  {
   "cell_type": "code",
   "execution_count": null,
   "id": "e1ca2411-1aa2-4db8-9664-71a89da4ac61",
   "metadata": {},
   "outputs": [],
   "source": []
  },
  {
   "cell_type": "code",
   "execution_count": null,
   "id": "5b1d3ce3-715d-4075-83e9-2c33086d2fdf",
   "metadata": {},
   "outputs": [],
   "source": []
  },
  {
   "cell_type": "code",
   "execution_count": null,
   "id": "a046c8cf-db84-445a-9684-ae1bbb53469d",
   "metadata": {},
   "outputs": [],
   "source": []
  },
  {
   "cell_type": "code",
   "execution_count": null,
   "id": "e5cce24d-1812-4a59-98e7-12a18400c6a8",
   "metadata": {},
   "outputs": [],
   "source": []
  }
 ],
 "metadata": {
  "kernelspec": {
   "display_name": "Python 3 (ipykernel)",
   "language": "python",
   "name": "python3"
  },
  "language_info": {
   "codemirror_mode": {
    "name": "ipython",
    "version": 3
   },
   "file_extension": ".py",
   "mimetype": "text/x-python",
   "name": "python",
   "nbconvert_exporter": "python",
   "pygments_lexer": "ipython3",
   "version": "3.11.7"
  }
 },
 "nbformat": 4,
 "nbformat_minor": 5
}
